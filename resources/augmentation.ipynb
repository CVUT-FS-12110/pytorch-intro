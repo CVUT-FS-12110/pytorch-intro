{
 "cells": [
  {
   "cell_type": "code",
   "execution_count": null,
   "id": "42f4e0d7-2273-42cc-8bff-5502045ac5ea",
   "metadata": {},
   "outputs": [],
   "source": []
  }
 ],
 "metadata": {
  "kernelspec": {
   "display_name": "",
   "name": ""
  },
  "language_info": {
   "name": ""
  }
 },
 "nbformat": 4,
 "nbformat_minor": 5
}
