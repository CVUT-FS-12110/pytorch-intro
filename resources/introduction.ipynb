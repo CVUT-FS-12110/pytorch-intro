{
 "cells": [
  {
   "cell_type": "markdown",
   "id": "39140dc2-dcef-404c-b117-8e94ed997288",
   "metadata": {},
   "source": [
    "# PyTorch Introduction"
   ]
  },
  {
   "cell_type": "markdown",
   "id": "2882a8d9-acd9-4bf4-904c-7a29c57c199b",
   "metadata": {},
   "source": [
    "## Why PyTorch?\n",
    "\n",
    "- **Intuitive API**: Pythonic and user-friendly, easy to integrate with Python-based tools and libraries.\n",
    "- **Strong Research Adoption**: Widely used in academia for prototyping and experimenting with new models.\n",
    "- **Extensive Ecosystem**: Includes powerful libraries like **TorchVision**, **TorchText**, and **PyTorch Lightning** for easy model building.\n",
    "- **Fast Prototyping**: Enables quick iterations with minimal setup, ideal for testing new ideas and models.\n",
    "- **Integration with Python**: Works well with popular Python libraries like **NumPy** and **SciPy**.\n",
    "- **GPU acceleration** through **CUDA**, enabling tensors to be moved and computed on GPUs.\n",
    "\n",
    "## Are There Any Alternatives?\n",
    "\n",
    "Yes, there are several. The primary competitor to PyTorch is **TensorFlow**, which offers similar features and adoption in the machine learning community.\n",
    "\n",
    "## From NumPy array to PyTorch tensors\n",
    "   - **Tensors** are the fundamental data containers in PyTorch. They are similar to **NumPy arrays** but with the added capability of being processed on **GPU** for accelerated computation.\n",
    "   - Tensors are multi-dimensional arrays and support a wide variety of operations such as element-wise operations, matrix multiplication, reshaping, etc."
   ]
  },
  {
   "cell_type": "markdown",
   "id": "077f6b0d-2b15-4e57-a574-af0df4498947",
   "metadata": {},
   "source": [
    "PyTorch tensors have many operations (e.g., `sum`, `mean`, `reshape`, `squeeze`, etc.) that closely mirror NumPy arrays. For example:"
   ]
  },
  {
   "cell_type": "code",
   "execution_count": 1,
   "id": "7f680e62-9afc-47d2-8d3b-80fe0caff53e",
   "metadata": {},
   "outputs": [],
   "source": [
    "import numpy as np\n",
    "import torch"
   ]
  },
  {
   "cell_type": "code",
   "execution_count": 2,
   "id": "5593d733-d30f-475b-bbce-6a6bd8a5258b",
   "metadata": {},
   "outputs": [
    {
     "data": {
      "text/plain": [
       "10"
      ]
     },
     "execution_count": 2,
     "metadata": {},
     "output_type": "execute_result"
    }
   ],
   "source": [
    "# NumPy example\n",
    "array = np.array([[1, 2], [3, 4]])\n",
    "np.sum(array)"
   ]
  },
  {
   "cell_type": "code",
   "execution_count": 3,
   "id": "afa6165c-cb02-4b0d-961f-60b17b608adb",
   "metadata": {},
   "outputs": [
    {
     "data": {
      "text/plain": [
       "tensor(10)"
      ]
     },
     "execution_count": 3,
     "metadata": {},
     "output_type": "execute_result"
    }
   ],
   "source": [
    "# PyTorch example\n",
    "tensor = torch.tensor([[1, 2], [3, 4]])\n",
    "torch.sum(tensor)"
   ]
  },
  {
   "cell_type": "markdown",
   "id": "bcdf36ed-35e0-4619-8885-b7838727b8d7",
   "metadata": {},
   "source": [
    "PyTorch’s APIs are often inspired by NumPy. In fact, you can convert back and forth between NumPy arrays and PyTorch tensors seamlessly:"
   ]
  },
  {
   "cell_type": "code",
   "execution_count": 4,
   "id": "5b97718b-45ea-4eb2-8e9b-2fe8cd009d92",
   "metadata": {},
   "outputs": [
    {
     "data": {
      "text/plain": [
       "tensor([1, 2, 3], dtype=torch.int32)"
      ]
     },
     "execution_count": 4,
     "metadata": {},
     "output_type": "execute_result"
    }
   ],
   "source": [
    "# Convert NumPy array to PyTorch tensor\n",
    "array = np.array([1, 2, 3])\n",
    "torch.from_numpy(array)"
   ]
  },
  {
   "cell_type": "code",
   "execution_count": 5,
   "id": "0574df95-2f33-47a6-9479-0192f1bc7f4a",
   "metadata": {},
   "outputs": [
    {
     "data": {
      "text/plain": [
       "array([[1, 2],\n",
       "       [3, 4]], dtype=int64)"
      ]
     },
     "execution_count": 5,
     "metadata": {},
     "output_type": "execute_result"
    }
   ],
   "source": [
    "# Convert PyTorch tensor to NumPy array\n",
    "tensor.numpy()"
   ]
  },
  {
   "cell_type": "markdown",
   "id": "7302c85f-9f6c-4361-9118-3f0ffe2faf97",
   "metadata": {},
   "source": [
    "## Experiment Preparation\n",
    "1. **Handle Data**\n",
    "   - Set up Dataset\n",
    "   - Set up DataLoader\n",
    "2. **Prepare Model**\n",
    "   - Define model layers\n",
    "   - Implement forward pass\n",
    "3. **Set Up Training**\n",
    "   - Choose optimizer\n",
    "   - Select loss function\n",
    "   - Define device (CPU/GPU)\n",
    "\n",
    "## Training\n",
    "\n",
    "- **Loss**: The error calculated by the model, used to adjust its weights.  \n",
    "- **Batch**: A group of samples processed together to calculate the loss.  \n",
    "- **Epoch**: One complete pass through the entire dataset during training.  \n",
    "\n",
    "Training typically involves multiple epochs. Each epoch repeats the following steps for every batch:\n",
    "\n",
    "1. **Get data batch from DataLoader**  \n",
    "2. Perform a **forward pass** through the model  \n",
    "3. **Compute loss**  \n",
    "4. Perform a **backward pass** (calculate gradients from the loss)  \n",
    "5. **Optimize the model** (update weights using the optimizer)"
   ]
  },
  {
   "cell_type": "code",
   "execution_count": null,
   "id": "61cf93bd-2126-4481-9873-905e14f67ddf",
   "metadata": {},
   "outputs": [],
   "source": []
  }
 ],
 "metadata": {
  "kernelspec": {
   "display_name": "Python 3 (ipykernel)",
   "language": "python",
   "name": "python3"
  },
  "language_info": {
   "codemirror_mode": {
    "name": "ipython",
    "version": 3
   },
   "file_extension": ".py",
   "mimetype": "text/x-python",
   "name": "python",
   "nbconvert_exporter": "python",
   "pygments_lexer": "ipython3",
   "version": "3.10.11"
  }
 },
 "nbformat": 4,
 "nbformat_minor": 5
}
